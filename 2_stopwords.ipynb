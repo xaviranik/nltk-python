{
 "cells": [
  {
   "cell_type": "markdown",
   "metadata": {},
   "source": [
    "## Stop Words"
   ]
  },
  {
   "cell_type": "code",
   "execution_count": 4,
   "metadata": {},
   "outputs": [],
   "source": [
    "from nltk.corpus import stopwords\n",
    "from nltk.tokenize import word_tokenize as wtk"
   ]
  },
  {
   "cell_type": "code",
   "execution_count": 8,
   "metadata": {},
   "outputs": [
    {
     "name": "stdout",
     "output_type": "stream",
     "text": [
      "{'as', 'in', 'was', \"wasn't\", 'ourselves', 'herself', 'into', 'only', 'an', 'does', 'y', 'ain', 'been', 'have', 'me', \"couldn't\", 'my', 'we', 'hasn', 'or', \"mustn't\", 'at', 'a', 'any', 'has', 'shouldn', 'after', 'isn', 'haven', \"you'd\", 'from', \"didn't\", 'wouldn', 'same', 'she', 'am', \"haven't\", 'won', 'yourself', 'them', 'if', 'be', 'until', 'are', 'do', 'our', 'her', 'this', 'hers', 'who', 'ma', 'why', \"hasn't\", 'is', 'doesn', 'that', \"that'll\", 'd', 'off', 'while', 'more', 'now', 'm', 'ours', 'his', 'all', \"isn't\", 'out', 'i', 'to', 't', 'nor', \"shouldn't\", 'yourselves', 'had', \"doesn't\", \"should've\", 're', 'no', 'but', \"mightn't\", 've', 'against', 'other', 'above', 'both', 'myself', 'the', 'most', 'during', 'before', 'there', 'just', 'can', \"hadn't\", 'did', 'hadn', 'down', 'because', 'about', 'through', \"don't\", 'up', 'then', 'should', 'having', \"it's\", \"you'll\", 'needn', 'with', 'below', 'couldn', 'doing', 'such', 'those', 'between', 'him', \"you're\", 'which', 'few', 'and', 'shan', 'll', 'for', \"wouldn't\", 'when', 'didn', 'himself', \"won't\", 'itself', 'what', 'here', 'their', \"you've\", 'your', 'own', 'yours', 'mightn', \"needn't\", 'where', 'themselves', 'not', 'o', 'they', 'weren', 'you', \"weren't\", 'on', 'will', 'further', \"she's\", 'than', 'he', 'again', 'under', 'being', 'these', 'very', 's', 'too', 'aren', 'don', 'some', 'so', 'whom', 'its', 'were', 'of', \"aren't\", 'wasn', 'how', 'mustn', 'over', \"shan't\", 'theirs', 'by', 'once', 'it', 'each'}\n"
     ]
    }
   ],
   "source": [
    "example_sentence = 'If we can not protect the world, you can be damn sure we’ll avenge it.'\n",
    "stop_words = set(stopwords.words('english'))\n",
    "\n",
    "print(stop_words)"
   ]
  },
  {
   "cell_type": "code",
   "execution_count": 9,
   "metadata": {},
   "outputs": [
    {
     "name": "stdout",
     "output_type": "stream",
     "text": [
      "['If', 'we', 'can', 'not', 'protect', 'the', 'world', ',', 'you', 'can', 'be', 'damn', 'sure', 'we', '’', 'll', 'avenge', 'it', '.']\n"
     ]
    }
   ],
   "source": [
    "words = wtk(example_sentence)\n",
    "print(words)"
   ]
  },
  {
   "cell_type": "code",
   "execution_count": 10,
   "metadata": {},
   "outputs": [
    {
     "name": "stdout",
     "output_type": "stream",
     "text": [
      "['If', 'protect', 'world', ',', 'damn', 'sure', '’', 'avenge', '.']\n"
     ]
    }
   ],
   "source": [
    "filtered_sentence = [w for w in words if not w in stop_words]\n",
    "print(filtered_sentence)"
   ]
  },
  {
   "cell_type": "code",
   "execution_count": null,
   "metadata": {},
   "outputs": [],
   "source": []
  }
 ],
 "metadata": {
  "kernelspec": {
   "display_name": "Python 3",
   "language": "python",
   "name": "python3"
  },
  "language_info": {
   "codemirror_mode": {
    "name": "ipython",
    "version": 3
   },
   "file_extension": ".py",
   "mimetype": "text/x-python",
   "name": "python",
   "nbconvert_exporter": "python",
   "pygments_lexer": "ipython3",
   "version": "3.7.4"
  }
 },
 "nbformat": 4,
 "nbformat_minor": 4
}
