{
 "cells": [
  {
   "cell_type": "markdown",
   "metadata": {},
   "source": [
    "## Tokenizing Sentences"
   ]
  },
  {
   "cell_type": "markdown",
   "metadata": {},
   "source": [
    "#### Corpus - Body of text, singular. Corpora is the plural of this. Example: A collection of medical journals.\n",
    "#### Lexicon - Words and their meanings. Example: English dictionary. Consider, however, that various fields will have different lexicons. For example: To a financial investor, the first meaning for the word \"Bull\" is someone who is confident about the market, as compared to the common English lexicon, where the first meaning for the word \"Bull\" is an animal. As such, there is a special lexicon for financial investors, doctors, children, mechanics, and so on.\n",
    "#### Token - Each \"entity\" that is a part of whatever was split up based on rules. For examples, each word is a token when a sentence is \"tokenized\" into words. Each sentence can also be a token, if you tokenized the sentences out of a paragraph."
   ]
  },
  {
   "cell_type": "code",
   "execution_count": 16,
   "metadata": {},
   "outputs": [],
   "source": [
    "from nltk.tokenize import sent_tokenize as stk, word_tokenize as wtk"
   ]
  },
  {
   "cell_type": "code",
   "execution_count": 17,
   "metadata": {},
   "outputs": [],
   "source": [
    "example_text = 'I know what it’s like to lose. To feel so desperately that you’re right, yet to fail nonetheless. Dread it. Run from it. Destiny still arrives. Or should I say, I have.'"
   ]
  },
  {
   "cell_type": "code",
   "execution_count": 20,
   "metadata": {},
   "outputs": [
    {
     "name": "stdout",
     "output_type": "stream",
     "text": [
      "['I know what it’s like to lose.', 'To feel so desperately that you’re right, yet to fail nonetheless.', 'Dread it.', 'Run from it.', 'Destiny still arrives.', 'Or should I say, I have.']\n"
     ]
    }
   ],
   "source": [
    "print(stk(example_text))"
   ]
  },
  {
   "cell_type": "markdown",
   "metadata": {},
   "source": [
    "## Tokenizing Words"
   ]
  },
  {
   "cell_type": "code",
   "execution_count": 21,
   "metadata": {},
   "outputs": [
    {
     "name": "stdout",
     "output_type": "stream",
     "text": [
      "['I', 'know', 'what', 'it', '’', 's', 'like', 'to', 'lose', '.', 'To', 'feel', 'so', 'desperately', 'that', 'you', '’', 're', 'right', ',', 'yet', 'to', 'fail', 'nonetheless', '.', 'Dread', 'it', '.', 'Run', 'from', 'it', '.', 'Destiny', 'still', 'arrives', '.', 'Or', 'should', 'I', 'say', ',', 'I', 'have', '.']\n"
     ]
    }
   ],
   "source": [
    "print(wtk(example_text))"
   ]
  },
  {
   "cell_type": "code",
   "execution_count": 22,
   "metadata": {},
   "outputs": [
    {
     "name": "stdout",
     "output_type": "stream",
     "text": [
      "I\n",
      "know\n",
      "what\n",
      "it\n",
      "’\n",
      "s\n",
      "like\n",
      "to\n",
      "lose\n",
      ".\n",
      "To\n",
      "feel\n",
      "so\n",
      "desperately\n",
      "that\n",
      "you\n",
      "’\n",
      "re\n",
      "right\n",
      ",\n",
      "yet\n",
      "to\n",
      "fail\n",
      "nonetheless\n",
      ".\n",
      "Dread\n",
      "it\n",
      ".\n",
      "Run\n",
      "from\n",
      "it\n",
      ".\n",
      "Destiny\n",
      "still\n",
      "arrives\n",
      ".\n",
      "Or\n",
      "should\n",
      "I\n",
      "say\n",
      ",\n",
      "I\n",
      "have\n",
      ".\n"
     ]
    }
   ],
   "source": [
    "for w in wtk(example_text):\n",
    "    print(w)"
   ]
  },
  {
   "cell_type": "code",
   "execution_count": null,
   "metadata": {},
   "outputs": [],
   "source": []
  }
 ],
 "metadata": {
  "kernelspec": {
   "display_name": "Python 3",
   "language": "python",
   "name": "python3"
  },
  "language_info": {
   "codemirror_mode": {
    "name": "ipython",
    "version": 3
   },
   "file_extension": ".py",
   "mimetype": "text/x-python",
   "name": "python",
   "nbconvert_exporter": "python",
   "pygments_lexer": "ipython3",
   "version": "3.7.4"
  }
 },
 "nbformat": 4,
 "nbformat_minor": 4
}
